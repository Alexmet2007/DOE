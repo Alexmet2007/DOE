{
 "cells": [
  {
   "cell_type": "markdown",
   "id": "4b916aa127f4c80e",
   "metadata": {},
   "source": [
    "**Ejercicio:** Se llevaron a cabo un experimento 2^2 con 3 réplicas para evaluar la capacidad de limpieza de una solución en pruebas de lavado, A: Cantidad de Bicarbonato de sodio [5 y 10 %] y B: Cantidad de celulosa de carboximetilo de sodio [2 y 4%]. Si las sumas de las réplicas de cada corrida son las siguientes\t(1) = 21;\ta =11; \tb =23\tab = 29. Calcule el valor del efecto del factor AB y su varianza"
   ]
  },
  {
   "cell_type": "code",
   "execution_count": 1,
   "id": "d8ca08c817da1e46",
   "metadata": {
    "ExecuteTime": {
     "end_time": "2024-06-27T02:38:02.137029Z",
     "start_time": "2024-06-27T02:37:57.750449Z"
    }
   },
   "outputs": [],
   "source": [
    "import pandas as pd\n",
    "import numpy as np\n",
    "import statsmodels.api as sm\n",
    "from statsmodels.formula.api import ols"
   ]
  },
  {
   "cell_type": "code",
   "execution_count": 2,
   "id": "initial_id",
   "metadata": {
    "ExecuteTime": {
     "end_time": "2024-06-27T02:38:02.147488Z",
     "start_time": "2024-06-27T02:38:02.137029Z"
    },
    "collapsed": true,
    "jupyter": {
     "outputs_hidden": true
    }
   },
   "outputs": [
    {
     "name": "stdout",
     "output_type": "stream",
     "text": [
      "El valor del efecto del factor AB es: 2.6666666666666656\n",
      "El valor de la varianza de efecto del factor AB es: 21.333333333333332\n"
     ]
    }
   ],
   "source": [
    "# Número de réplicas por tratamiento\n",
    "n = 3\n",
    "\n",
    "# Sumas de réplicas para cada tratamiento\n",
    "total_1 = 21\n",
    "total_a = 11\n",
    "total_b = 23\n",
    "total_ab = 29\n",
    "\n",
    "#Calculamos las medias para cada tratamiento\n",
    "Y1 = (total_1/n)\n",
    "Ya = (total_a/n)\n",
    "Yb = (total_b/n)\n",
    "Yab = (total_ab/n)\n",
    "\n",
    "#Ahora calculamos el efecto de AB\n",
    "effect_AB = 1/2 *(Yab+Y1-Ya-Yb)\n",
    "print(\"El valor del efecto del factor AB es:\", effect_AB)\n",
    "\n",
    "# Calculamos la varianza del efecto AB\n",
    "variance_AB = ((total_1+total_ab)-(total_a+total_b))**2/(n*4)\n",
    "print(\"El valor de la varianza de efecto del factor AB es:\", variance_AB)"
   ]
  },
  {
   "cell_type": "markdown",
   "id": "165a81558c8100bc",
   "metadata": {},
   "source": [
    "**Ejercicio 2**Se está estudiando la dureza de una tableta, medida en Kg fuerza. Se Piensa que depende de A: tipo de proceso [Vía húmeda: 1, vía seca : 2, granulado: 3] y B: concentración de carbón activado [1% :1, 2% : 2]. Se efectúa un experimento que consiste en tomar 2 réplicas de la dureza para cada combinación (a,b) de los niveles de los factores. Los resultados del experimento son los siguientes: (1,1) =218, (1,2) = 187, (2,1) = 202, (2,2) = 204; (3,1) = 175;  (3,2) = 217; (1,1) =205, (1,2) = 201, (2,1) = 220, (2,2) = 233; (3,1) = 179;  (3,2) = 301."
   ]
  },
  {
   "cell_type": "code",
   "execution_count": 3,
   "id": "1c5c14fa7daafc48",
   "metadata": {
    "ExecuteTime": {
     "end_time": "2024-06-27T02:38:02.179643Z",
     "start_time": "2024-06-27T02:38:02.147488Z"
    }
   },
   "outputs": [
    {
     "name": "stdout",
     "output_type": "stream",
     "text": [
      "               sum_sq   df         F    PR(>F)           MS\n",
      "A          516.166667  2.0  0.360033  0.711760   258.083333\n",
      "B         1728.000000  1.0  2.410602  0.171504  1728.000000\n",
      "A:B       5358.500000  2.0  3.737619  0.088276  2679.250000\n",
      "Residual  4301.000000  6.0       NaN       NaN   716.833333\n",
      "El valor del cuadrado error medio es: 716.8333333333334\n",
      "La variabilidad debida al efecto del factor AB es: 5358.500000000003\n"
     ]
    }
   ],
   "source": [
    "#Traemos los datos\n",
    "data = {\n",
    "'A': ['Via humeda', 'Via seca', 'Granulado'] * 4,\n",
    "'B': ['1%', '1%', '1%','2%', '2%', '2%'] * 2,\n",
    "'f': [218, 202, 175, 187, 204, 217, 205, 220, 179, 201, 233, 301]\n",
    "}\n",
    "\n",
    "#Creeamos el data frame\n",
    "df = pd.DataFrame(data)\n",
    "\n",
    "# Ajustamos el modelo factorial 2^2 con tres replicas\n",
    "model = ols('f ~ A + B + A:B', data=df).fit()\n",
    "# ANOVA\n",
    "anova_table = sm.stats.anova_lm(model, typ=2)\n",
    "# Agregamos el error medio cuadrado a la tabla ANOVA\n",
    "anova_table['MS'] = anova_table['sum_sq'] / anova_table['df']\n",
    "print(anova_table)\n",
    "print(\"El valor del cuadrado error medio es:\", anova_table['MS']['Residual'])\n",
    "print(\"La variabilidad debida al efecto del factor AB es:\", anova_table['sum_sq']['A:B'])\n"
   ]
  }
 ],
 "metadata": {
  "kernelspec": {
   "display_name": "Python 3 (ipykernel)",
   "language": "python",
   "name": "python3"
  },
  "language_info": {
   "codemirror_mode": {
    "name": "ipython",
    "version": 3
   },
   "file_extension": ".py",
   "mimetype": "text/x-python",
   "name": "python",
   "nbconvert_exporter": "python",
   "pygments_lexer": "ipython3",
   "version": "3.12.2"
  }
 },
 "nbformat": 4,
 "nbformat_minor": 5
}
